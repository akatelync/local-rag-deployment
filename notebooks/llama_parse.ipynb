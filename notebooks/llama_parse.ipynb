{
 "cells": [
  {
   "cell_type": "code",
   "execution_count": 1,
   "id": "56e970f0-1c15-49f4-a9c7-e04bd703a98a",
   "metadata": {},
   "outputs": [],
   "source": [
    "import os\n",
    "import nest_asyncio\n",
    "nest_asyncio.apply()\n",
    "\n",
    "from llama_index.llms.openai import OpenAI\n",
    "from llama_index.embeddings.openai import OpenAIEmbedding\n",
    "from llama_index.core import VectorStoreIndex\n",
    "from llama_index.core import Settings\n",
    "from llama_index.core import StorageContext\n",
    "from llama_index.core.node_parser import MarkdownElementNodeParser\n",
    "\n",
    "from llama_parse import LlamaParse\n",
    "from llama_index.vector_stores.astra import AstraDBVectorStore\n",
    "from llama_index.postprocessor.flag_embedding_reranker import FlagEmbeddingReranker"
   ]
  },
  {
   "cell_type": "code",
   "execution_count": 2,
   "id": "cda41028-9c03-480e-9b0f-e3a0c392f5dc",
   "metadata": {},
   "outputs": [],
   "source": [
    "OPENAI_API_KEY = \"\"\n",
    "LLAMA_CLOUD_API_KEY = \"\"\n",
    "\n",
    "ASTRA_TOKEN = \"\"\n",
    "ASTRA_API_ENDPOINT = \"\"\n",
    "ASTRA_NAMESPACE = \"\""
   ]
  },
  {
   "cell_type": "code",
   "execution_count": 3,
   "id": "be629386-c1d2-48ba-809d-2dfdf3aee656",
   "metadata": {},
   "outputs": [],
   "source": [
    "embed_model = OpenAIEmbedding(model=\"text-embedding-3-small\")\n",
    "llm = OpenAI(model=\"gpt-4o-mini\")\n",
    "\n",
    "Settings.llm = llm\n",
    "Settings.embed_model = embed_model"
   ]
  },
  {
   "cell_type": "code",
   "execution_count": 8,
   "id": "19818a9d-b280-4963-9d85-733bcfee50f5",
   "metadata": {},
   "outputs": [
    {
     "name": "stdout",
     "output_type": "stream",
     "text": [
      "Started parsing the file under job_id e0e4dc42-66d8-4261-be87-5ee5efe71668\n"
     ]
    }
   ],
   "source": [
    "documents = LlamaParse(result_type=\"markdown\").load_data(\"./senate-legislative/DTI submission EMB Submission re CREATE MORE.pdf\")"
   ]
  },
  {
   "cell_type": "code",
   "execution_count": 10,
   "id": "217e9a3f-65e8-45c8-b478-59c937077b25",
   "metadata": {},
   "outputs": [
    {
     "name": "stdout",
     "output_type": "stream",
     "text": [
      "# 1. Number of entities registered with Export Marketing Bureau from 2018 to 2024\n",
      "\n",
      "(Sec. 6 amending Sec. 293 (M));\n",
      "\n",
      "- DTI-EMB accredited a total of 77 exporters based on its 2021 data. These are export enterprises that do not qualify for registrations under PEZA or BOI, but are considered export-oriented by virtue of their export revenues constituting more than 70% of their total gross revenues;\n",
      "- DTI-EMB terminated its accreditation services on February 2022, upon issuance of BIR Revenue Regulation (RR) 21-2021 and Revenue Memorandum Circular (RMC) 24-2022 which implemented CREATE’s IRR provisions. The CREATE Law also does not list DTI-EMB as an Investment Promotion Agency (IPA) where local enterprises can register as an “export enterprise” (REE) in order to avail of fiscal and non-fiscal incentives under CREATE Law.\n",
      "- Out of the 77 companies registered in 2021, 88% are considered MSMEs and 12% are Large enterprises.\n",
      "- The total export sales attributable to these EMB-accredited compan\n"
     ]
    }
   ],
   "source": [
    "print(documents[0].text[:1000])"
   ]
  },
  {
   "cell_type": "code",
   "execution_count": 27,
   "id": "eb394a07-a906-4221-b3d0-9769956c17e6",
   "metadata": {
    "scrolled": true
   },
   "outputs": [],
   "source": [
    "astra_db_store_advanced = AstraDBVectorStore(\n",
    "    token=ASTRA_TOKEN,\n",
    "    api_endpoint=ASTRA_API_ENDPOINT,\n",
    "    namespace=ASTRA_NAMESPACE,\n",
    "    collection_name=\"astra_v_table_llamaparse_advanced_new\",\n",
    "    embedding_dimension=1536,\n",
    ")\n",
    "\n",
    "astra_db_store_base = AstraDBVectorStore(\n",
    "    token=ASTRA_TOKEN,\n",
    "    api_endpoint=ASTRA_API_ENDPOINT,\n",
    "    namespace=ASTRA_NAMESPACE,\n",
    "    collection_name=\"astra_v_table_llamaparse_base\",\n",
    "    embedding_dimension=1536,\n",
    ")"
   ]
  },
  {
   "cell_type": "code",
   "execution_count": 11,
   "id": "8d5f6d8d-2957-4d3e-bc68-7b3f719692ea",
   "metadata": {},
   "outputs": [],
   "source": [
    "node_parser = MarkdownElementNodeParser(llm=llm, num_workers=8)"
   ]
  },
  {
   "cell_type": "code",
   "execution_count": 12,
   "id": "c35bc79f-68ba-44da-882e-8380e2fd6b81",
   "metadata": {},
   "outputs": [
    {
     "name": "stderr",
     "output_type": "stream",
     "text": [
      "0it [00:00, ?it/s]\n",
      "0it [00:00, ?it/s]\n"
     ]
    }
   ],
   "source": [
    "nodes = node_parser.get_nodes_from_documents(documents)"
   ]
  },
  {
   "cell_type": "code",
   "execution_count": 13,
   "id": "51bea992-5d47-49f1-8e51-7aa91b2837e2",
   "metadata": {
    "scrolled": true
   },
   "outputs": [
    {
     "name": "stdout",
     "output_type": "stream",
     "text": [
      "0\n",
      "1. Number of entities registered with Export Marketing Bureau from 2018 to 2024\n",
      "\n",
      "(Sec. 6 amending Sec. 293 (M));\n",
      "\n",
      "- DTI-EMB accredited a total of 77 exporters based on its 2021 data. These are export enterprises that do not qualify for registrations under PEZA or BOI, but are considered export-oriented by virtue of their export revenues constituting more than 70% of their total gross revenues;\n",
      "- DTI-EMB terminated its accreditation services on February 2022, upon issuance of BIR Revenue Regulation (RR) 21-2021 and Revenue Memorandum Circular (RMC) 24-2022 which implemented CREATE’s IRR provisions. The CREATE Law also does not list DTI-EMB as an Investment Promotion Agency (IPA) where local enterprises can register as an “export enterprise” (REE) in order to avail of fiscal and non-fiscal incentives under CREATE Law.\n",
      "- Out of the 77 companies registered in 2021, 88% are considered MSMEs and 12% are Large enterprises.\n",
      "- The total export sales attributable to these EMB-accredited companies stands at Php 19.46 B for the year 2021 alone.\n",
      "\n",
      " 2. Fiscal incentives currently enjoyed by entities registered with Export Marketing Bureau (Sec. 6 amending Sec. 293 (M));\n",
      "\n",
      "- None. EMB-accredited exporters do not enjoy any fiscal incentive.\n",
      "- As provided in the above context, prior to CREATE Law, said export enterprises enjoy VAT zero-rating on local purchases of raw materials and packaging supplies. However, this non-fiscal incentive was invalidated by CREATE Law. This has since affected their competitiveness in sourcing local materials as inputs to their export manufacturing activities.\n",
      "\n",
      " 3. Requirements and qualifications to register with Export Marketing Bureau (Sec. 6 amending Sec. 293 (M)).\n",
      "\n",
      "- From 1995-2022, applicants are required to submit the following to the DTI-EMB to validate if they meet the >70% threshold needed to qualify them as an “export-oriented enterprise”:\n",
      "1\n",
      "Notarized Sworn Statement\n",
      "\n",
      "attesting to the Company’s compliance with the minimum wage and SSS Laws\n",
      "\n",
      " EMB’s Accreditation Services\n",
      "\n",
      "EMB’s accreditation services are free of charge and comply with the ARTA’s seven (7)-day processing period for a complex government transaction.\n",
      "\n",
      " Backgrounder on EMB’s Registration/Accreditation Services for Export Enterprises\n",
      "\n",
      "The Export Development Act (EDA) of 1994 was crafted with the general objective of providing a macroeconomic policy framework that supports export development during the mid-90s, towards the achievement of Philippines 2000.\n",
      "\n",
      "To avail incentives under the EDA, exporters must secure an annual accreditation from the Bureau of Export Trade Promotion (BETP), now known as the Export Marketing Bureau or the appropriate deputized agency. (Rule VII, Section 1 of EDA IRR)\n",
      "\n",
      "BETP/EMB shall issue said accreditation for companies whose manufacturing or service operations do not fall under the supervisory or regulatory functions of the Philippine Economic Zone Authority (PEZA), Board of Investments (BOI), Garments And Textile Export Board (GTEB) – defunct, the Subic Bay Metropolitan Authority (SBMA), or other similar authorities.\n",
      "\n",
      " Incentives under EDA\n",
      "\n",
      "Most incentives under EDA had a timeline of only five (5) years (1995-1999):\n",
      "\n",
      "1. Duty-Free Importation of Machinery and Equipment – until Dec. 31, 1997\n",
      "2. Tax credit for imported raw mats not locally available – until Dec. 31, 1999\n",
      "3. Tax Credit for Import-Substitution of Non-Traditional products – until Dec. 31, 1997\n",
      "4. Tax Credit for Increase in Current Year's Export Revenues – per DOF regulations\n",
      "\n",
      "In the case of parallel incentives (i.e. under E.O. 226), a subsequent registration under the EDA shall not entitle the exporter to the enjoyment of the same incentives provided under the EDA.\n",
      "\n",
      "Even though incentives under the EDA have lapsed, EMB continued to issue Certificates of Accreditation under the EDA for qualified export enterprises (defined as companies with at <70% export outputs) for purposes of incentives enjoyed under Section 106 (A) of the National Internal Revenue Code (NIRC) which provides that: sale of raw materials or packaging materials to export-oriented enterprise whose export sales exceed 70% of total annual production are considered zero-rated sale of goods (VAT zero-rating).\n"
     ]
    }
   ],
   "source": [
    "for idx, n in enumerate(nodes):\n",
    "    print(idx)\n",
    "    print(n.get_content())"
   ]
  },
  {
   "cell_type": "code",
   "execution_count": 14,
   "id": "21c4c29c-2ea0-45da-b579-8ae10b89b764",
   "metadata": {},
   "outputs": [],
   "source": [
    "base_nodes, objects = node_parser.get_nodes_and_objects(nodes)"
   ]
  },
  {
   "cell_type": "code",
   "execution_count": 22,
   "id": "84c4d724-a26b-4321-9bc0-82046a5689d8",
   "metadata": {},
   "outputs": [],
   "source": [
    "base_nodes[0].metadata = {\n",
    "    \"document_title\":\"DTI submission EMB Submission re CREATE MORE\"\n",
    "}"
   ]
  },
  {
   "cell_type": "code",
   "execution_count": 25,
   "id": "f553870d-c3ff-478f-9df9-d4ec39b20944",
   "metadata": {},
   "outputs": [
    {
     "data": {
      "text/plain": [
       "{'document_title': 'DTI submission EMB Submission re CREATE MORE'}"
      ]
     },
     "execution_count": 25,
     "metadata": {},
     "output_type": "execute_result"
    }
   ],
   "source": [
    "base_nodes[0].metadata"
   ]
  },
  {
   "cell_type": "code",
   "execution_count": 28,
   "id": "ccdd8575-3843-4478-8d5e-6cf45862f935",
   "metadata": {},
   "outputs": [],
   "source": [
    "storage_context_advanced = StorageContext.from_defaults(vector_store=astra_db_store_advanced)\n",
    "storage_context_base = StorageContext.from_defaults(vector_store=astra_db_store_base)\n",
    "\n",
    "recursive_index = VectorStoreIndex(nodes=base_nodes+objects, storage_context=storage_context_advanced)\n",
    "raw_index = VectorStoreIndex.from_documents(documents, storage_context=storage_context_base)"
   ]
  },
  {
   "cell_type": "code",
   "execution_count": 29,
   "id": "a75ea50b-efa9-420f-b3b1-25fd9254a46a",
   "metadata": {},
   "outputs": [],
   "source": [
    "reranker = FlagEmbeddingReranker(\n",
    "    top_n=3,\n",
    "    model=\"BAAI/bge-reranker-large\",\n",
    ")\n",
    "\n",
    "recursive_query_engine = recursive_index.as_query_engine(\n",
    "    similarity_top_k=5,\n",
    "    node_postprocessors=[reranker],\n",
    "    verbose=True\n",
    ")\n",
    "\n",
    "raw_query_engine = raw_index.as_query_engine(similarity_top_k=5, node_postprocessors=[reranker])"
   ]
  },
  {
   "cell_type": "code",
   "execution_count": 30,
   "id": "aba4cae7-5358-4909-b342-006d138dd508",
   "metadata": {},
   "outputs": [
    {
     "name": "stdout",
     "output_type": "stream",
     "text": [
      "LlamaParse + Basic Query Engine\n",
      "The timeline for incentives under the Export Development Act (EDA) was from 1995 to 1999. Specific incentives had different expiration dates, such as duty-free importation of machinery and equipment until December 31, 1997, and tax credits for imported raw materials not locally available until December 31, 1999.\n"
     ]
    }
   ],
   "source": [
    "query = \"What is the timeline for incentives under EDA?\"\n",
    "\n",
    "response_1 = raw_query_engine.query(query)\n",
    "print(\"LlamaParse + Basic Query Engine\")\n",
    "print(response_1)\n",
    "\n",
    "# response_2 = recursive_query_engine.query(query)\n",
    "# print(\"LlamaParse + Recursive Retriever Query Engine\")\n",
    "# print(response_2)"
   ]
  },
  {
   "cell_type": "code",
   "execution_count": 41,
   "id": "91afdc4d-6a3d-46d2-94ed-30b2588fecc6",
   "metadata": {},
   "outputs": [
    {
     "name": "stdout",
     "output_type": "stream",
     "text": [
      "LlamaParse + Basic Query Engine\n",
      "The provided context does not contain any information about \"CREATE MORE.\" Therefore, I cannot provide an answer regarding that topic.\n"
     ]
    }
   ],
   "source": [
    "query = \"What is CREATE MORE?\"\n",
    "\n",
    "response_1 = raw_query_engine.query(query)\n",
    "print(\"LlamaParse + Basic Query Engine\")\n",
    "print(response_1)"
   ]
  },
  {
   "cell_type": "code",
   "execution_count": null,
   "id": "0fb448f5-2dd5-4745-8458-ca9781c10e5c",
   "metadata": {},
   "outputs": [],
   "source": []
  }
 ],
 "metadata": {
  "kernelspec": {
   "display_name": "ragenv",
   "language": "python",
   "name": "ragenv"
  },
  "language_info": {
   "codemirror_mode": {
    "name": "ipython",
    "version": 3
   },
   "file_extension": ".py",
   "mimetype": "text/x-python",
   "name": "python",
   "nbconvert_exporter": "python",
   "pygments_lexer": "ipython3",
   "version": "3.11.9"
  }
 },
 "nbformat": 4,
 "nbformat_minor": 5
}
