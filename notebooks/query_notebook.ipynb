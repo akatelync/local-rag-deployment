{
 "cells": [
  {
   "cell_type": "code",
   "execution_count": 1,
   "metadata": {},
   "outputs": [
    {
     "name": "stdout",
     "output_type": "stream",
     "text": [
      "Requirement already satisfied: astrapy in /Users/katecastillo/Documents/learning/local-rag-deployment/venv/lib/python3.11/site-packages (1.5.2)\n",
      "Requirement already satisfied: deprecation<2.2.0,>=2.1.0 in /Users/katecastillo/Documents/learning/local-rag-deployment/venv/lib/python3.11/site-packages (from astrapy) (2.1.0)\n",
      "Requirement already satisfied: httpx<1,>=0.25.2 in /Users/katecastillo/Documents/learning/local-rag-deployment/venv/lib/python3.11/site-packages (from httpx[http2]<1,>=0.25.2->astrapy) (0.27.2)\n",
      "Requirement already satisfied: pymongo>=3 in /Users/katecastillo/Documents/learning/local-rag-deployment/venv/lib/python3.11/site-packages (from astrapy) (4.10.1)\n",
      "Requirement already satisfied: toml<0.11.0,>=0.10.2 in /Users/katecastillo/Documents/learning/local-rag-deployment/venv/lib/python3.11/site-packages (from astrapy) (0.10.2)\n",
      "Requirement already satisfied: uuid6>=2024.1.12 in /Users/katecastillo/Documents/learning/local-rag-deployment/venv/lib/python3.11/site-packages (from astrapy) (2024.7.10)\n",
      "Requirement already satisfied: packaging in /Users/katecastillo/Documents/learning/local-rag-deployment/venv/lib/python3.11/site-packages (from deprecation<2.2.0,>=2.1.0->astrapy) (24.1)\n",
      "Requirement already satisfied: anyio in /Users/katecastillo/Documents/learning/local-rag-deployment/venv/lib/python3.11/site-packages (from httpx<1,>=0.25.2->httpx[http2]<1,>=0.25.2->astrapy) (4.6.2.post1)\n",
      "Requirement already satisfied: certifi in /Users/katecastillo/Documents/learning/local-rag-deployment/venv/lib/python3.11/site-packages (from httpx<1,>=0.25.2->httpx[http2]<1,>=0.25.2->astrapy) (2024.8.30)\n",
      "Requirement already satisfied: httpcore==1.* in /Users/katecastillo/Documents/learning/local-rag-deployment/venv/lib/python3.11/site-packages (from httpx<1,>=0.25.2->httpx[http2]<1,>=0.25.2->astrapy) (1.0.6)\n",
      "Requirement already satisfied: idna in /Users/katecastillo/Documents/learning/local-rag-deployment/venv/lib/python3.11/site-packages (from httpx<1,>=0.25.2->httpx[http2]<1,>=0.25.2->astrapy) (3.10)\n",
      "Requirement already satisfied: sniffio in /Users/katecastillo/Documents/learning/local-rag-deployment/venv/lib/python3.11/site-packages (from httpx<1,>=0.25.2->httpx[http2]<1,>=0.25.2->astrapy) (1.3.1)\n",
      "Requirement already satisfied: h11<0.15,>=0.13 in /Users/katecastillo/Documents/learning/local-rag-deployment/venv/lib/python3.11/site-packages (from httpcore==1.*->httpx<1,>=0.25.2->httpx[http2]<1,>=0.25.2->astrapy) (0.14.0)\n",
      "Requirement already satisfied: h2<5,>=3 in /Users/katecastillo/Documents/learning/local-rag-deployment/venv/lib/python3.11/site-packages (from httpx[http2]<1,>=0.25.2->astrapy) (4.1.0)\n",
      "Requirement already satisfied: dnspython<3.0.0,>=1.16.0 in /Users/katecastillo/Documents/learning/local-rag-deployment/venv/lib/python3.11/site-packages (from pymongo>=3->astrapy) (2.7.0)\n",
      "Requirement already satisfied: hyperframe<7,>=6.0 in /Users/katecastillo/Documents/learning/local-rag-deployment/venv/lib/python3.11/site-packages (from h2<5,>=3->httpx[http2]<1,>=0.25.2->astrapy) (6.0.1)\n",
      "Requirement already satisfied: hpack<5,>=4.0 in /Users/katecastillo/Documents/learning/local-rag-deployment/venv/lib/python3.11/site-packages (from h2<5,>=3->httpx[http2]<1,>=0.25.2->astrapy) (4.0.0)\n",
      "\n",
      "\u001b[1m[\u001b[0m\u001b[34;49mnotice\u001b[0m\u001b[1;39;49m]\u001b[0m\u001b[39;49m A new release of pip is available: \u001b[0m\u001b[31;49m24.0\u001b[0m\u001b[39;49m -> \u001b[0m\u001b[32;49m24.3.1\u001b[0m\n",
      "\u001b[1m[\u001b[0m\u001b[34;49mnotice\u001b[0m\u001b[1;39;49m]\u001b[0m\u001b[39;49m To update, run: \u001b[0m\u001b[32;49mpip install --upgrade pip\u001b[0m\n",
      "Note: you may need to restart the kernel to use updated packages.\n"
     ]
    }
   ],
   "source": [
    "%pip install --upgrade astrapy"
   ]
  },
  {
   "cell_type": "code",
   "execution_count": 12,
   "metadata": {},
   "outputs": [
    {
     "data": {
      "text/plain": [
       "True"
      ]
     },
     "execution_count": 12,
     "metadata": {},
     "output_type": "execute_result"
    }
   ],
   "source": [
    "import os\n",
    "import nest_asyncio\n",
    "nest_asyncio.apply()\n",
    "\n",
    "from llama_index.llms.openai import OpenAI\n",
    "from llama_index.embeddings.openai import OpenAIEmbedding\n",
    "from llama_index.core import VectorStoreIndex\n",
    "from llama_index.core import Settings\n",
    "from llama_index.core import StorageContext\n",
    "from llama_index.core.node_parser import MarkdownElementNodeParser\n",
    "\n",
    "from llama_parse import LlamaParse\n",
    "from llama_index.vector_stores.astra import AstraDBVectorStore\n",
    "from llama_index.postprocessor.flag_embedding_reranker import FlagEmbeddingReranker\n",
    "\n",
    "from dotenv import load_dotenv\n",
    "load_dotenv()"
   ]
  },
  {
   "cell_type": "code",
   "execution_count": 13,
   "metadata": {},
   "outputs": [],
   "source": [
    "OPENAI_API_KEY = os.environ.get(\"OPENAI_API_KEY\")\n",
    "LLAMA_CLOUD_API_KEY = os.environ.get(\"LLAMA_CLOUD_API_KEY\")\n",
    "\n",
    "ASTRA_TOKEN = os.environ.get(\"ASTRA_DB_APPLICATION_TOKEN\")\n",
    "ASTRA_API_ENDPOINT = os.environ.get(\"ASTRA_API_ENDPOINT\")\n",
    "ASTRA_NAMESPACE = os.environ.get(\"ASTRA_DB_KEYSPACE\")"
   ]
  },
  {
   "cell_type": "code",
   "execution_count": 14,
   "metadata": {},
   "outputs": [],
   "source": [
    "astra_db_store_advanced = AstraDBVectorStore(\n",
    "    token=ASTRA_TOKEN,\n",
    "    api_endpoint=ASTRA_API_ENDPOINT,\n",
    "    namespace=ASTRA_NAMESPACE,\n",
    "    collection_name=\"senate_demo\",\n",
    "    embedding_dimension=1536,\n",
    ")"
   ]
  },
  {
   "cell_type": "code",
   "execution_count": 8,
   "metadata": {},
   "outputs": [
    {
     "ename": "TypeError",
     "evalue": "object of type 'StorageContext' has no len()",
     "output_type": "error",
     "traceback": [
      "\u001b[0;31m---------------------------------------------------------------------------\u001b[0m",
      "\u001b[0;31mTypeError\u001b[0m                                 Traceback (most recent call last)",
      "Cell \u001b[0;32mIn[8], line 2\u001b[0m\n\u001b[1;32m      1\u001b[0m storage_context_advanced \u001b[38;5;241m=\u001b[39m StorageContext\u001b[38;5;241m.\u001b[39mfrom_defaults(vector_store\u001b[38;5;241m=\u001b[39mastra_db_store_advanced)\n\u001b[0;32m----> 2\u001b[0m recursive_index \u001b[38;5;241m=\u001b[39m \u001b[43mVectorStoreIndex\u001b[49m\u001b[43m(\u001b[49m\u001b[43mstorage_context_advanced\u001b[49m\u001b[43m)\u001b[49m\n",
      "File \u001b[0;32m~/Documents/learning/local-rag-deployment/venv/lib/python3.11/site-packages/llama_index/core/indices/vector_store/base.py:76\u001b[0m, in \u001b[0;36mVectorStoreIndex.__init__\u001b[0;34m(self, nodes, use_async, store_nodes_override, embed_model, insert_batch_size, objects, index_struct, storage_context, callback_manager, transformations, show_progress, **kwargs)\u001b[0m\n\u001b[1;32m     69\u001b[0m \u001b[38;5;28mself\u001b[39m\u001b[38;5;241m.\u001b[39m_embed_model \u001b[38;5;241m=\u001b[39m (\n\u001b[1;32m     70\u001b[0m     resolve_embed_model(embed_model, callback_manager\u001b[38;5;241m=\u001b[39mcallback_manager)\n\u001b[1;32m     71\u001b[0m     \u001b[38;5;28;01mif\u001b[39;00m embed_model\n\u001b[1;32m     72\u001b[0m     \u001b[38;5;28;01melse\u001b[39;00m Settings\u001b[38;5;241m.\u001b[39membed_model\n\u001b[1;32m     73\u001b[0m )\n\u001b[1;32m     75\u001b[0m \u001b[38;5;28mself\u001b[39m\u001b[38;5;241m.\u001b[39m_insert_batch_size \u001b[38;5;241m=\u001b[39m insert_batch_size\n\u001b[0;32m---> 76\u001b[0m \u001b[38;5;28;43msuper\u001b[39;49m\u001b[43m(\u001b[49m\u001b[43m)\u001b[49m\u001b[38;5;241;43m.\u001b[39;49m\u001b[38;5;21;43m__init__\u001b[39;49m\u001b[43m(\u001b[49m\n\u001b[1;32m     77\u001b[0m \u001b[43m    \u001b[49m\u001b[43mnodes\u001b[49m\u001b[38;5;241;43m=\u001b[39;49m\u001b[43mnodes\u001b[49m\u001b[43m,\u001b[49m\n\u001b[1;32m     78\u001b[0m \u001b[43m    \u001b[49m\u001b[43mindex_struct\u001b[49m\u001b[38;5;241;43m=\u001b[39;49m\u001b[43mindex_struct\u001b[49m\u001b[43m,\u001b[49m\n\u001b[1;32m     79\u001b[0m \u001b[43m    \u001b[49m\u001b[43mstorage_context\u001b[49m\u001b[38;5;241;43m=\u001b[39;49m\u001b[43mstorage_context\u001b[49m\u001b[43m,\u001b[49m\n\u001b[1;32m     80\u001b[0m \u001b[43m    \u001b[49m\u001b[43mshow_progress\u001b[49m\u001b[38;5;241;43m=\u001b[39;49m\u001b[43mshow_progress\u001b[49m\u001b[43m,\u001b[49m\n\u001b[1;32m     81\u001b[0m \u001b[43m    \u001b[49m\u001b[43mobjects\u001b[49m\u001b[38;5;241;43m=\u001b[39;49m\u001b[43mobjects\u001b[49m\u001b[43m,\u001b[49m\n\u001b[1;32m     82\u001b[0m \u001b[43m    \u001b[49m\u001b[43mcallback_manager\u001b[49m\u001b[38;5;241;43m=\u001b[39;49m\u001b[43mcallback_manager\u001b[49m\u001b[43m,\u001b[49m\n\u001b[1;32m     83\u001b[0m \u001b[43m    \u001b[49m\u001b[43mtransformations\u001b[49m\u001b[38;5;241;43m=\u001b[39;49m\u001b[43mtransformations\u001b[49m\u001b[43m,\u001b[49m\n\u001b[1;32m     84\u001b[0m \u001b[43m    \u001b[49m\u001b[38;5;241;43m*\u001b[39;49m\u001b[38;5;241;43m*\u001b[39;49m\u001b[43mkwargs\u001b[49m\u001b[43m,\u001b[49m\n\u001b[1;32m     85\u001b[0m \u001b[43m\u001b[49m\u001b[43m)\u001b[49m\n",
      "File \u001b[0;32m~/Documents/learning/local-rag-deployment/venv/lib/python3.11/site-packages/llama_index/core/indices/base.py:52\u001b[0m, in \u001b[0;36mBaseIndex.__init__\u001b[0;34m(self, nodes, objects, index_struct, storage_context, callback_manager, transformations, show_progress, **kwargs)\u001b[0m\n\u001b[1;32m     50\u001b[0m     \u001b[38;5;28;01mraise\u001b[39;00m \u001b[38;5;167;01mValueError\u001b[39;00m(\u001b[38;5;124m\"\u001b[39m\u001b[38;5;124mOnly one of nodes or index_struct can be provided.\u001b[39m\u001b[38;5;124m\"\u001b[39m)\n\u001b[1;32m     51\u001b[0m \u001b[38;5;66;03m# This is to explicitly make sure that the old UX is not used\u001b[39;00m\n\u001b[0;32m---> 52\u001b[0m \u001b[38;5;28;01mif\u001b[39;00m nodes \u001b[38;5;129;01mis\u001b[39;00m \u001b[38;5;129;01mnot\u001b[39;00m \u001b[38;5;28;01mNone\u001b[39;00m \u001b[38;5;129;01mand\u001b[39;00m \u001b[38;5;28;43mlen\u001b[39;49m\u001b[43m(\u001b[49m\u001b[43mnodes\u001b[49m\u001b[43m)\u001b[49m \u001b[38;5;241m>\u001b[39m\u001b[38;5;241m=\u001b[39m \u001b[38;5;241m1\u001b[39m \u001b[38;5;129;01mand\u001b[39;00m \u001b[38;5;129;01mnot\u001b[39;00m \u001b[38;5;28misinstance\u001b[39m(nodes[\u001b[38;5;241m0\u001b[39m], BaseNode):\n\u001b[1;32m     53\u001b[0m     \u001b[38;5;28;01mif\u001b[39;00m \u001b[38;5;28misinstance\u001b[39m(nodes[\u001b[38;5;241m0\u001b[39m], Document):\n\u001b[1;32m     54\u001b[0m         \u001b[38;5;28;01mraise\u001b[39;00m \u001b[38;5;167;01mValueError\u001b[39;00m(\n\u001b[1;32m     55\u001b[0m             \u001b[38;5;124m\"\u001b[39m\u001b[38;5;124mThe constructor now takes in a list of Node objects. \u001b[39m\u001b[38;5;124m\"\u001b[39m\n\u001b[1;32m     56\u001b[0m             \u001b[38;5;124m\"\u001b[39m\u001b[38;5;124mSince you are passing in a list of Document objects, \u001b[39m\u001b[38;5;124m\"\u001b[39m\n\u001b[1;32m     57\u001b[0m             \u001b[38;5;124m\"\u001b[39m\u001b[38;5;124mplease use `from_documents` instead.\u001b[39m\u001b[38;5;124m\"\u001b[39m\n\u001b[1;32m     58\u001b[0m         )\n",
      "\u001b[0;31mTypeError\u001b[0m: object of type 'StorageContext' has no len()"
     ]
    }
   ],
   "source": [
    "storage_context_advanced = StorageContext.from_defaults(vector_store=astra_db_store_advanced)\n",
    "recursive_index = VectorStoreIndex(storage_context_advanced)"
   ]
  },
  {
   "cell_type": "code",
   "execution_count": 15,
   "metadata": {},
   "outputs": [
    {
     "ename": "ImportError",
     "evalue": "cannot import name 'QueryEngine' from 'llama_index' (unknown location)",
     "output_type": "error",
     "traceback": [
      "\u001b[0;31m---------------------------------------------------------------------------\u001b[0m",
      "\u001b[0;31mImportError\u001b[0m                               Traceback (most recent call last)",
      "Cell \u001b[0;32mIn[15], line 4\u001b[0m\n\u001b[1;32m      2\u001b[0m \u001b[38;5;28;01mfrom\u001b[39;00m \u001b[38;5;21;01mllama_index\u001b[39;00m\u001b[38;5;21;01m.\u001b[39;00m\u001b[38;5;21;01mpostprocessor\u001b[39;00m\u001b[38;5;21;01m.\u001b[39;00m\u001b[38;5;21;01mflag_embedding_reranker\u001b[39;00m \u001b[38;5;28;01mimport\u001b[39;00m FlagEmbeddingReranker\n\u001b[1;32m      3\u001b[0m \u001b[38;5;28;01mfrom\u001b[39;00m \u001b[38;5;21;01mllama_index\u001b[39;00m\u001b[38;5;21;01m.\u001b[39;00m\u001b[38;5;21;01mvector_stores\u001b[39;00m\u001b[38;5;21;01m.\u001b[39;00m\u001b[38;5;21;01mastra\u001b[39;00m \u001b[38;5;28;01mimport\u001b[39;00m AstraDBVectorStore\n\u001b[0;32m----> 4\u001b[0m \u001b[38;5;28;01mfrom\u001b[39;00m \u001b[38;5;21;01mllama_index\u001b[39;00m \u001b[38;5;28;01mimport\u001b[39;00m QueryEngine\n\u001b[1;32m      6\u001b[0m \u001b[38;5;66;03m# Set up connection to AstraDB (assuming vectors are already in AstraDB)\u001b[39;00m\n\u001b[1;32m      7\u001b[0m \u001b[38;5;28;01mfrom\u001b[39;00m \u001b[38;5;21;01mllama_index\u001b[39;00m\u001b[38;5;21;01m.\u001b[39;00m\u001b[38;5;21;01mcore\u001b[39;00m \u001b[38;5;28;01mimport\u001b[39;00m StorageContext\n",
      "\u001b[0;31mImportError\u001b[0m: cannot import name 'QueryEngine' from 'llama_index' (unknown location)"
     ]
    }
   ],
   "source": [
    "from llama_index.core import VectorStoreIndex, StorageContext\n",
    "from llama_index.postprocessor.flag_embedding_reranker import FlagEmbeddingReranker\n",
    "from llama_index.vector_stores.astra import AstraDBVectorStore\n",
    "from llama_index import QueryEngine\n",
    "\n",
    "# Set up connection to AstraDB (assuming vectors are already in AstraDB)\n",
    "from llama_index.core import StorageContext\n",
    "\n",
    "storage_context = StorageContext.from_defaults(vector_store=astra_db_store_advanced)\n",
    "\n",
    "# Configure a reranker (optional)\n",
    "reranker = FlagEmbeddingReranker(\n",
    "    top_n=3,  # Number of results to retrieve\n",
    "    model=\"BAAI/bge-reranker-large\"\n",
    ")\n",
    "\n",
    "# Create a query engine (it will work directly with the existing vectors in AstraDB)\n",
    "query_engine = QueryEngine.from_storage_context(\n",
    "    storage_context=storage_context,\n",
    "    similarity_top_k=5,  # Number of similar results to retrieve\n",
    "    node_postprocessors=[reranker],  # Optional reranker to fine-tune results\n",
    "    verbose=True\n",
    ")\n",
    "\n",
    "# Run a query (adjust according to the content in your vectors)\n",
    "query = \"What is the manifestation of Senator Poe based on the MERGED TSN AUG. 5, 2024 document?\"\n",
    "response = query_engine.query(query)\n",
    "\n",
    "# Print the result of the query\n",
    "print(response.response)\n"
   ]
  },
  {
   "cell_type": "code",
   "execution_count": null,
   "metadata": {},
   "outputs": [],
   "source": []
  }
 ],
 "metadata": {
  "kernelspec": {
   "display_name": "ragenv",
   "language": "python",
   "name": "ragenv"
  },
  "language_info": {
   "codemirror_mode": {
    "name": "ipython",
    "version": 3
   },
   "file_extension": ".py",
   "mimetype": "text/x-python",
   "name": "python",
   "nbconvert_exporter": "python",
   "pygments_lexer": "ipython3",
   "version": "3.11.9"
  }
 },
 "nbformat": 4,
 "nbformat_minor": 2
}
