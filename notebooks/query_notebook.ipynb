{
 "cells": [
  {
   "cell_type": "code",
   "execution_count": 2,
   "metadata": {},
   "outputs": [
    {
     "name": "stdout",
     "output_type": "stream",
     "text": [
      "Requirement already satisfied: astrapy in /Users/katecastillo/Documents/learning/local-rag-deployment/venv/lib/python3.11/site-packages (0.7.7)\n",
      "Requirement already satisfied: cassio<0.2.0,>=0.1.4 in /Users/katecastillo/Documents/learning/local-rag-deployment/venv/lib/python3.11/site-packages (from astrapy) (0.1.10)\n",
      "Requirement already satisfied: deprecation<2.2.0,>=2.1.0 in /Users/katecastillo/Documents/learning/local-rag-deployment/venv/lib/python3.11/site-packages (from astrapy) (2.1.0)\n",
      "Requirement already satisfied: httpx<1,>=0.25.2 in /Users/katecastillo/Documents/learning/local-rag-deployment/venv/lib/python3.11/site-packages (from httpx[http2]<1,>=0.25.2->astrapy) (0.27.2)\n",
      "Requirement already satisfied: toml<0.11.0,>=0.10.2 in /Users/katecastillo/Documents/learning/local-rag-deployment/venv/lib/python3.11/site-packages (from astrapy) (0.10.2)\n",
      "Requirement already satisfied: cassandra-driver<4.0.0,>=3.28.0 in /Users/katecastillo/Documents/learning/local-rag-deployment/venv/lib/python3.11/site-packages (from cassio<0.2.0,>=0.1.4->astrapy) (3.29.2)\n",
      "Requirement already satisfied: numpy>=1.0 in /Users/katecastillo/Documents/learning/local-rag-deployment/venv/lib/python3.11/site-packages (from cassio<0.2.0,>=0.1.4->astrapy) (1.26.4)\n",
      "Requirement already satisfied: requests<3.0.0,>=2.31.0 in /Users/katecastillo/Documents/learning/local-rag-deployment/venv/lib/python3.11/site-packages (from cassio<0.2.0,>=0.1.4->astrapy) (2.32.3)\n",
      "Requirement already satisfied: packaging in /Users/katecastillo/Documents/learning/local-rag-deployment/venv/lib/python3.11/site-packages (from deprecation<2.2.0,>=2.1.0->astrapy) (24.1)\n",
      "Requirement already satisfied: anyio in /Users/katecastillo/Documents/learning/local-rag-deployment/venv/lib/python3.11/site-packages (from httpx<1,>=0.25.2->httpx[http2]<1,>=0.25.2->astrapy) (4.6.2.post1)\n",
      "Requirement already satisfied: certifi in /Users/katecastillo/Documents/learning/local-rag-deployment/venv/lib/python3.11/site-packages (from httpx<1,>=0.25.2->httpx[http2]<1,>=0.25.2->astrapy) (2024.8.30)\n",
      "Requirement already satisfied: httpcore==1.* in /Users/katecastillo/Documents/learning/local-rag-deployment/venv/lib/python3.11/site-packages (from httpx<1,>=0.25.2->httpx[http2]<1,>=0.25.2->astrapy) (1.0.6)\n",
      "Requirement already satisfied: idna in /Users/katecastillo/Documents/learning/local-rag-deployment/venv/lib/python3.11/site-packages (from httpx<1,>=0.25.2->httpx[http2]<1,>=0.25.2->astrapy) (3.10)\n",
      "Requirement already satisfied: sniffio in /Users/katecastillo/Documents/learning/local-rag-deployment/venv/lib/python3.11/site-packages (from httpx<1,>=0.25.2->httpx[http2]<1,>=0.25.2->astrapy) (1.3.1)\n",
      "Requirement already satisfied: h11<0.15,>=0.13 in /Users/katecastillo/Documents/learning/local-rag-deployment/venv/lib/python3.11/site-packages (from httpcore==1.*->httpx<1,>=0.25.2->httpx[http2]<1,>=0.25.2->astrapy) (0.14.0)\n",
      "Requirement already satisfied: h2<5,>=3 in /Users/katecastillo/Documents/learning/local-rag-deployment/venv/lib/python3.11/site-packages (from httpx[http2]<1,>=0.25.2->astrapy) (4.1.0)\n",
      "Requirement already satisfied: geomet<0.3,>=0.1 in /Users/katecastillo/Documents/learning/local-rag-deployment/venv/lib/python3.11/site-packages (from cassandra-driver<4.0.0,>=3.28.0->cassio<0.2.0,>=0.1.4->astrapy) (0.2.1.post1)\n",
      "Requirement already satisfied: hyperframe<7,>=6.0 in /Users/katecastillo/Documents/learning/local-rag-deployment/venv/lib/python3.11/site-packages (from h2<5,>=3->httpx[http2]<1,>=0.25.2->astrapy) (6.0.1)\n",
      "Requirement already satisfied: hpack<5,>=4.0 in /Users/katecastillo/Documents/learning/local-rag-deployment/venv/lib/python3.11/site-packages (from h2<5,>=3->httpx[http2]<1,>=0.25.2->astrapy) (4.0.0)\n",
      "Requirement already satisfied: charset-normalizer<4,>=2 in /Users/katecastillo/Documents/learning/local-rag-deployment/venv/lib/python3.11/site-packages (from requests<3.0.0,>=2.31.0->cassio<0.2.0,>=0.1.4->astrapy) (3.4.0)\n",
      "Requirement already satisfied: urllib3<3,>=1.21.1 in /Users/katecastillo/Documents/learning/local-rag-deployment/venv/lib/python3.11/site-packages (from requests<3.0.0,>=2.31.0->cassio<0.2.0,>=0.1.4->astrapy) (2.2.3)\n",
      "Requirement already satisfied: click in /Users/katecastillo/Documents/learning/local-rag-deployment/venv/lib/python3.11/site-packages (from geomet<0.3,>=0.1->cassandra-driver<4.0.0,>=3.28.0->cassio<0.2.0,>=0.1.4->astrapy) (8.1.7)\n",
      "Requirement already satisfied: six in /Users/katecastillo/Documents/learning/local-rag-deployment/venv/lib/python3.11/site-packages (from geomet<0.3,>=0.1->cassandra-driver<4.0.0,>=3.28.0->cassio<0.2.0,>=0.1.4->astrapy) (1.16.0)\n",
      "\n",
      "\u001b[1m[\u001b[0m\u001b[34;49mnotice\u001b[0m\u001b[1;39;49m]\u001b[0m\u001b[39;49m A new release of pip is available: \u001b[0m\u001b[31;49m24.0\u001b[0m\u001b[39;49m -> \u001b[0m\u001b[32;49m24.3.1\u001b[0m\n",
      "\u001b[1m[\u001b[0m\u001b[34;49mnotice\u001b[0m\u001b[1;39;49m]\u001b[0m\u001b[39;49m To update, run: \u001b[0m\u001b[32;49mpip install --upgrade pip\u001b[0m\n",
      "Note: you may need to restart the kernel to use updated packages.\n"
     ]
    }
   ],
   "source": [
    "%pip install astrapy"
   ]
  },
  {
   "cell_type": "code",
   "execution_count": 1,
   "metadata": {},
   "outputs": [
    {
     "data": {
      "text/plain": [
       "True"
      ]
     },
     "execution_count": 1,
     "metadata": {},
     "output_type": "execute_result"
    }
   ],
   "source": [
    "import os\n",
    "import nest_asyncio\n",
    "nest_asyncio.apply()\n",
    "\n",
    "from llama_index.llms.openai import OpenAI\n",
    "from llama_index.embeddings.openai import OpenAIEmbedding\n",
    "from llama_index.core import VectorStoreIndex\n",
    "from llama_index.core import Settings\n",
    "from llama_index.core import StorageContext\n",
    "from llama_index.core.node_parser import MarkdownElementNodeParser\n",
    "\n",
    "from llama_parse import LlamaParse\n",
    "from llama_index.vector_stores.astra import AstraDBVectorStore\n",
    "from llama_index.postprocessor.flag_embedding_reranker import FlagEmbeddingReranker\n",
    "\n",
    "from dotenv import load_dotenv\n",
    "load_dotenv()"
   ]
  },
  {
   "cell_type": "code",
   "execution_count": 3,
   "metadata": {},
   "outputs": [],
   "source": [
    "OPENAI_API_KEY = os.environ.get(\"OPENAI_API_KEY\")\n",
    "LLAMA_CLOUD_API_KEY = os.environ.get(\"LLAMA_CLOUD_API_KEY\")\n",
    "\n",
    "ASTRA_TOKEN = os.environ.get(\"ASTRA_DB_APPLICATION_TOKEN\")\n",
    "ASTRA_API_ENDPOINT = os.environ.get(\"ASTRA_API_ENDPOINT\")\n",
    "ASTRA_NAMESPACE = os.environ.get(\"ASTRA_DB_KEYSPACE\")"
   ]
  },
  {
   "cell_type": "code",
   "execution_count": 5,
   "metadata": {},
   "outputs": [
    {
     "ename": "ImportError",
     "evalue": "cannot import name 'DataAPIClient' from 'astrapy' (/Users/katecastillo/Documents/learning/local-rag-deployment/venv/lib/python3.11/site-packages/astrapy/__init__.py)",
     "output_type": "error",
     "traceback": [
      "\u001b[0;31m---------------------------------------------------------------------------\u001b[0m",
      "\u001b[0;31mImportError\u001b[0m                               Traceback (most recent call last)",
      "Cell \u001b[0;32mIn[5], line 1\u001b[0m\n\u001b[0;32m----> 1\u001b[0m \u001b[38;5;28;01mfrom\u001b[39;00m \u001b[38;5;21;01mastrapy\u001b[39;00m \u001b[38;5;28;01mimport\u001b[39;00m DataAPIClient\n\u001b[1;32m      2\u001b[0m client \u001b[38;5;241m=\u001b[39m DataAPIClient(ASTRA_TOKEN)\n\u001b[1;32m      3\u001b[0m database0 \u001b[38;5;241m=\u001b[39m client\u001b[38;5;241m.\u001b[39mget_database(ASTRA_API_ENDPOINT)\n",
      "\u001b[0;31mImportError\u001b[0m: cannot import name 'DataAPIClient' from 'astrapy' (/Users/katecastillo/Documents/learning/local-rag-deployment/venv/lib/python3.11/site-packages/astrapy/__init__.py)"
     ]
    }
   ],
   "source": [
    "from astrapy import DataAPIClient\n",
    "client = DataAPIClient(ASTRA_TOKEN)\n",
    "database0 = client.get_database(ASTRA_API_ENDPOINT)"
   ]
  },
  {
   "cell_type": "code",
   "execution_count": null,
   "metadata": {},
   "outputs": [],
   "source": []
  }
 ],
 "metadata": {
  "kernelspec": {
   "display_name": "ragenv",
   "language": "python",
   "name": "ragenv"
  },
  "language_info": {
   "codemirror_mode": {
    "name": "ipython",
    "version": 3
   },
   "file_extension": ".py",
   "mimetype": "text/x-python",
   "name": "python",
   "nbconvert_exporter": "python",
   "pygments_lexer": "ipython3",
   "version": "3.11.9"
  }
 },
 "nbformat": 4,
 "nbformat_minor": 2
}
